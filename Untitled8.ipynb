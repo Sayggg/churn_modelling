{
  "nbformat": 4,
  "nbformat_minor": 0,
  "metadata": {
    "colab": {
      "name": "Untitled8.ipynb",
      "provenance": [],
      "collapsed_sections": []
    },
    "kernelspec": {
      "name": "python3",
      "display_name": "Python 3"
    },
    "language_info": {
      "name": "python"
    },
    "accelerator": "GPU",
    "gpuClass": "standard"
  },
  "cells": [
    {
      "cell_type": "code",
      "execution_count": 1,
      "metadata": {
        "id": "4Cj9XtdE0AIF"
      },
      "outputs": [],
      "source": [
        ""
      ]
    },
    {
      "cell_type": "markdown",
      "source": [
        "# New Section"
      ],
      "metadata": {
        "id": "-qjHN_Tf0WYg"
      }
    },
    {
      "cell_type": "markdown",
      "source": [
        "# New Section"
      ],
      "metadata": {
        "id": "5cL1ZagM0W4A"
      }
    },
    {
      "cell_type": "markdown",
      "source": [
        "# New Section"
      ],
      "metadata": {
        "id": "N8pXV2UF0yOZ"
      }
    },
    {
      "cell_type": "code",
      "source": [
        "from google.colab import drive\n",
        "drive.mount('/content/drive')"
      ],
      "metadata": {
        "colab": {
          "base_uri": "https://localhost:8080/"
        },
        "id": "P1amVnvy1KI5",
        "outputId": "35c909ba-45fe-4667-ec4c-637f3af1cb01"
      },
      "execution_count": 2,
      "outputs": [
        {
          "output_type": "stream",
          "name": "stdout",
          "text": [
            "Mounted at /content/drive\n"
          ]
        }
      ]
    },
    {
      "cell_type": "code",
      "source": [
        "!pip install keras"
      ],
      "metadata": {
        "colab": {
          "base_uri": "https://localhost:8080/"
        },
        "id": "8xxnFo613Tt5",
        "outputId": "d2747096-0c16-4c73-95f2-236f0109232f"
      },
      "execution_count": 3,
      "outputs": [
        {
          "output_type": "stream",
          "name": "stdout",
          "text": [
            "Looking in indexes: https://pypi.org/simple, https://us-python.pkg.dev/colab-wheels/public/simple/\n",
            "Requirement already satisfied: keras in /usr/local/lib/python3.7/dist-packages (2.8.0)\n"
          ]
        }
      ]
    },
    {
      "cell_type": "code",
      "source": [
        "import pandas as pd"
      ],
      "metadata": {
        "id": "YsRv_k0p3ePv"
      },
      "execution_count": 4,
      "outputs": []
    },
    {
      "cell_type": "code",
      "source": [
        "# Importing the libraries\n",
        "import numpy as np\n",
        "import matplotlib.pyplot as plt\n",
        "import pandas as pd\n",
        "\n",
        "# Importing the dataset\n",
        "dataset = pd.read_csv('/content/drive/MyDrive/Churn_Modelling.csv')\n",
        "X = dataset.iloc[:, 3:13]\n",
        "y = dataset.iloc[:, 13]\n",
        "\n",
        "#Create dummy variables\n",
        "geography=pd.get_dummies(X[\"Geography\"],drop_first=True)\n",
        "gender=pd.get_dummies(X['Gender'],drop_first=True)\n",
        "\n",
        "## Concatenate the Data Frames\n",
        "\n",
        "X=pd.concat([X,geography,gender],axis=1)\n",
        "\n",
        "## Drop Unnecessary columns\n",
        "X=X.drop(['Geography','Gender'],axis=1)\n",
        "\n",
        "# Splitting the dataset into the Training set and Test set\n",
        "from sklearn.model_selection import train_test_split\n",
        "X_train, X_test, y_train, y_test = train_test_split(X, y, test_size = 0.2, random_state = 0)\n",
        "\n",
        "# Feature Scaling\n",
        "from sklearn.preprocessing import StandardScaler\n",
        "sc = StandardScaler()\n",
        "X_train = sc.fit_transform(X_train)\n",
        "X_test = sc.transform(X_test)\n",
        "\n",
        "# Part 2 - Now let's make the ANN!\n",
        "\n",
        "# Importing the Keras libraries and packages\n",
        "import keras\n",
        "from keras.models import Sequential\n",
        "from keras.layers import Dense\n",
        "from keras.layers import LeakyReLU,PReLU,ELU\n",
        "from keras.layers import Dropout\n",
        "\n",
        "\n",
        "# Initialising the ANN\n",
        "classifier = Sequential()\n",
        "\n",
        "# Adding the input layer and the first hidden layer\n",
        "classifier.add(Dense(6, kernel_initializer = 'he_uniform',activation='relu',input_dim = 11))\n",
        "\n",
        "# Adding the second hidden layer\n",
        "classifier.add(Dense(6, kernel_initializer = 'he_uniform',activation='relu'))\n",
        "# Adding the output layer\n",
        "classifier.add(Dense(1, kernel_initializer = 'glorot_uniform', activation = 'sigmoid'))\n",
        "\n",
        "# Compiling the ANN\n",
        "classifier.compile(optimizer = 'Adamax', loss = 'binary_crossentropy', metrics = ['acc'])\n",
        "\n",
        "# Fitting the ANN to the Training set\n",
        "model_history=classifier.fit(X_train, y_train,validation_split=0.33, batch_size = 10,epochs=100)\n",
        "\n",
        "# list all data in history\n",
        "\n",
        "print(model_history.history.keys())\n",
        "# summarize history for accuracy\n",
        "plt.plot(model_history.history['acc'])\n",
        "plt.plot(model_history.history['val_acc'])\n",
        "plt.title('model accuracy')\n",
        "plt.ylabel('accuracy')\n",
        "plt.xlabel('epoch')\n",
        "plt.legend(['train', 'test'], loc='upper left')\n",
        "plt.show()\n",
        "\n",
        "#not working\n",
        "# Part 3 - Making the predictions and evaluating the model\n",
        "# summarize history for loss\n",
        "plt.plot(model_history.history['loss'])\n",
        "plt.plot(model_history.history['val_loss'])\n",
        "plt.title('model loss')\n",
        "plt.ylabel('loss')\n",
        "plt.xlabel('epoch')\n",
        "plt.legend(['train', 'test'], loc='upper left')\n",
        "plt.show()\n",
        "\n",
        "# Predicting the Test set results\n",
        "y_pred = classifier.predict(X_test)\n",
        "y_pred = (y_pred > 0.5)\n",
        "#plt.plot(y_pred)\n",
        "# Making the Confusion Matrix\n",
        "from sklearn.metrics import confusion_matrix\n",
        "cm = confusion_matrix(y_test, y_pred)\n",
        "print(cm)\n",
        "\n",
        "# Calculate the Accuracy\n",
        "from sklearn.metrics import accuracy_score\n",
        "score=accuracy_score(y_pred,y_test)\n",
        "print(score)\n",
        "\n",
        "\n",
        "\n",
        "\n",
        "\n"
      ],
      "metadata": {
        "colab": {
          "base_uri": "https://localhost:8080/",
          "height": 1000
        },
        "id": "O70WQ48B3RX6",
        "outputId": "d49159cc-d76c-4dc3-8dd1-0b221e02da51"
      },
      "execution_count": 12,
      "outputs": [
        {
          "output_type": "stream",
          "name": "stdout",
          "text": [
            "Epoch 1/100\n",
            "536/536 [==============================] - 5s 7ms/step - loss: 0.7124 - acc: 0.5829 - val_loss: 0.5921 - val_acc: 0.7429\n",
            "Epoch 2/100\n",
            "536/536 [==============================] - 2s 4ms/step - loss: 0.5495 - acc: 0.7813 - val_loss: 0.5221 - val_acc: 0.7917\n",
            "Epoch 3/100\n",
            "536/536 [==============================] - 2s 4ms/step - loss: 0.5088 - acc: 0.7962 - val_loss: 0.4988 - val_acc: 0.7963\n",
            "Epoch 4/100\n",
            "536/536 [==============================] - 2s 4ms/step - loss: 0.4892 - acc: 0.7972 - val_loss: 0.4847 - val_acc: 0.7986\n",
            "Epoch 5/100\n",
            "536/536 [==============================] - 2s 4ms/step - loss: 0.4733 - acc: 0.8033 - val_loss: 0.4737 - val_acc: 0.8005\n",
            "Epoch 6/100\n",
            "536/536 [==============================] - 2s 4ms/step - loss: 0.4606 - acc: 0.8095 - val_loss: 0.4652 - val_acc: 0.8054\n",
            "Epoch 7/100\n",
            "536/536 [==============================] - 2s 4ms/step - loss: 0.4510 - acc: 0.8156 - val_loss: 0.4591 - val_acc: 0.8061\n",
            "Epoch 8/100\n",
            "536/536 [==============================] - 2s 4ms/step - loss: 0.4442 - acc: 0.8177 - val_loss: 0.4543 - val_acc: 0.8069\n",
            "Epoch 9/100\n",
            "536/536 [==============================] - 2s 4ms/step - loss: 0.4388 - acc: 0.8181 - val_loss: 0.4503 - val_acc: 0.8073\n",
            "Epoch 10/100\n",
            "536/536 [==============================] - 2s 4ms/step - loss: 0.4340 - acc: 0.8210 - val_loss: 0.4467 - val_acc: 0.8069\n",
            "Epoch 11/100\n",
            "536/536 [==============================] - 2s 4ms/step - loss: 0.4299 - acc: 0.8214 - val_loss: 0.4435 - val_acc: 0.8084\n",
            "Epoch 12/100\n",
            "536/536 [==============================] - 2s 4ms/step - loss: 0.4261 - acc: 0.8238 - val_loss: 0.4403 - val_acc: 0.8118\n",
            "Epoch 13/100\n",
            "536/536 [==============================] - 2s 4ms/step - loss: 0.4226 - acc: 0.8248 - val_loss: 0.4373 - val_acc: 0.8122\n",
            "Epoch 14/100\n",
            "536/536 [==============================] - 2s 4ms/step - loss: 0.4190 - acc: 0.8265 - val_loss: 0.4347 - val_acc: 0.8133\n",
            "Epoch 15/100\n",
            "536/536 [==============================] - 2s 4ms/step - loss: 0.4159 - acc: 0.8257 - val_loss: 0.4317 - val_acc: 0.8164\n",
            "Epoch 16/100\n",
            "536/536 [==============================] - 2s 4ms/step - loss: 0.4130 - acc: 0.8285 - val_loss: 0.4291 - val_acc: 0.8171\n",
            "Epoch 17/100\n",
            "536/536 [==============================] - 2s 4ms/step - loss: 0.4099 - acc: 0.8302 - val_loss: 0.4262 - val_acc: 0.8190\n",
            "Epoch 18/100\n",
            "536/536 [==============================] - 2s 4ms/step - loss: 0.4068 - acc: 0.8322 - val_loss: 0.4236 - val_acc: 0.8190\n",
            "Epoch 19/100\n",
            "536/536 [==============================] - 2s 4ms/step - loss: 0.4037 - acc: 0.8328 - val_loss: 0.4204 - val_acc: 0.8198\n",
            "Epoch 20/100\n",
            "536/536 [==============================] - 2s 4ms/step - loss: 0.4002 - acc: 0.8341 - val_loss: 0.4174 - val_acc: 0.8243\n",
            "Epoch 21/100\n",
            "536/536 [==============================] - 2s 4ms/step - loss: 0.3964 - acc: 0.8362 - val_loss: 0.4137 - val_acc: 0.8266\n",
            "Epoch 22/100\n",
            "536/536 [==============================] - 2s 4ms/step - loss: 0.3923 - acc: 0.8380 - val_loss: 0.4102 - val_acc: 0.8285\n",
            "Epoch 23/100\n",
            "536/536 [==============================] - 2s 4ms/step - loss: 0.3884 - acc: 0.8405 - val_loss: 0.4066 - val_acc: 0.8281\n",
            "Epoch 24/100\n",
            "536/536 [==============================] - 2s 4ms/step - loss: 0.3844 - acc: 0.8406 - val_loss: 0.4030 - val_acc: 0.8304\n",
            "Epoch 25/100\n",
            "536/536 [==============================] - 2s 4ms/step - loss: 0.3806 - acc: 0.8442 - val_loss: 0.3994 - val_acc: 0.8319\n",
            "Epoch 26/100\n",
            "536/536 [==============================] - 2s 4ms/step - loss: 0.3769 - acc: 0.8459 - val_loss: 0.3960 - val_acc: 0.8342\n",
            "Epoch 27/100\n",
            "536/536 [==============================] - 3s 6ms/step - loss: 0.3735 - acc: 0.8468 - val_loss: 0.3924 - val_acc: 0.8376\n",
            "Epoch 28/100\n",
            "536/536 [==============================] - 2s 4ms/step - loss: 0.3703 - acc: 0.8470 - val_loss: 0.3892 - val_acc: 0.8395\n",
            "Epoch 29/100\n",
            "536/536 [==============================] - 2s 4ms/step - loss: 0.3674 - acc: 0.8475 - val_loss: 0.3865 - val_acc: 0.8398\n",
            "Epoch 30/100\n",
            "536/536 [==============================] - 2s 4ms/step - loss: 0.3646 - acc: 0.8470 - val_loss: 0.3836 - val_acc: 0.8421\n",
            "Epoch 31/100\n",
            "536/536 [==============================] - 2s 4ms/step - loss: 0.3622 - acc: 0.8518 - val_loss: 0.3812 - val_acc: 0.8440\n",
            "Epoch 32/100\n",
            "536/536 [==============================] - 2s 4ms/step - loss: 0.3602 - acc: 0.8518 - val_loss: 0.3796 - val_acc: 0.8432\n",
            "Epoch 33/100\n",
            "536/536 [==============================] - 2s 4ms/step - loss: 0.3583 - acc: 0.8522 - val_loss: 0.3779 - val_acc: 0.8444\n",
            "Epoch 34/100\n",
            "536/536 [==============================] - 2s 4ms/step - loss: 0.3567 - acc: 0.8528 - val_loss: 0.3766 - val_acc: 0.8459\n",
            "Epoch 35/100\n",
            "536/536 [==============================] - 2s 4ms/step - loss: 0.3554 - acc: 0.8541 - val_loss: 0.3748 - val_acc: 0.8470\n",
            "Epoch 36/100\n",
            "536/536 [==============================] - 2s 4ms/step - loss: 0.3540 - acc: 0.8556 - val_loss: 0.3737 - val_acc: 0.8459\n",
            "Epoch 37/100\n",
            "536/536 [==============================] - 2s 4ms/step - loss: 0.3528 - acc: 0.8559 - val_loss: 0.3726 - val_acc: 0.8478\n",
            "Epoch 38/100\n",
            "536/536 [==============================] - 2s 4ms/step - loss: 0.3517 - acc: 0.8556 - val_loss: 0.3717 - val_acc: 0.8463\n",
            "Epoch 39/100\n",
            "536/536 [==============================] - 2s 4ms/step - loss: 0.3506 - acc: 0.8558 - val_loss: 0.3708 - val_acc: 0.8478\n",
            "Epoch 40/100\n",
            "536/536 [==============================] - 2s 4ms/step - loss: 0.3495 - acc: 0.8574 - val_loss: 0.3701 - val_acc: 0.8482\n",
            "Epoch 41/100\n",
            "536/536 [==============================] - 2s 4ms/step - loss: 0.3486 - acc: 0.8561 - val_loss: 0.3692 - val_acc: 0.8485\n",
            "Epoch 42/100\n",
            "536/536 [==============================] - 2s 4ms/step - loss: 0.3478 - acc: 0.8578 - val_loss: 0.3685 - val_acc: 0.8489\n",
            "Epoch 43/100\n",
            "536/536 [==============================] - 2s 4ms/step - loss: 0.3470 - acc: 0.8576 - val_loss: 0.3680 - val_acc: 0.8493\n",
            "Epoch 44/100\n",
            "536/536 [==============================] - 2s 4ms/step - loss: 0.3464 - acc: 0.8587 - val_loss: 0.3677 - val_acc: 0.8501\n",
            "Epoch 45/100\n",
            "536/536 [==============================] - 2s 4ms/step - loss: 0.3458 - acc: 0.8563 - val_loss: 0.3668 - val_acc: 0.8497\n",
            "Epoch 46/100\n",
            "536/536 [==============================] - 2s 4ms/step - loss: 0.3454 - acc: 0.8584 - val_loss: 0.3667 - val_acc: 0.8501\n",
            "Epoch 47/100\n",
            "536/536 [==============================] - 2s 4ms/step - loss: 0.3447 - acc: 0.8578 - val_loss: 0.3664 - val_acc: 0.8497\n",
            "Epoch 48/100\n",
            "536/536 [==============================] - 2s 4ms/step - loss: 0.3443 - acc: 0.8586 - val_loss: 0.3661 - val_acc: 0.8501\n",
            "Epoch 49/100\n",
            "536/536 [==============================] - 2s 4ms/step - loss: 0.3437 - acc: 0.8580 - val_loss: 0.3660 - val_acc: 0.8508\n",
            "Epoch 50/100\n",
            "536/536 [==============================] - 2s 4ms/step - loss: 0.3433 - acc: 0.8582 - val_loss: 0.3658 - val_acc: 0.8501\n",
            "Epoch 51/100\n",
            "536/536 [==============================] - 2s 4ms/step - loss: 0.3429 - acc: 0.8580 - val_loss: 0.3655 - val_acc: 0.8504\n",
            "Epoch 52/100\n",
            "536/536 [==============================] - 2s 4ms/step - loss: 0.3423 - acc: 0.8597 - val_loss: 0.3657 - val_acc: 0.8501\n",
            "Epoch 53/100\n",
            "536/536 [==============================] - 2s 5ms/step - loss: 0.3420 - acc: 0.8584 - val_loss: 0.3651 - val_acc: 0.8501\n",
            "Epoch 54/100\n",
            "536/536 [==============================] - 2s 4ms/step - loss: 0.3418 - acc: 0.8589 - val_loss: 0.3648 - val_acc: 0.8497\n",
            "Epoch 55/100\n",
            "536/536 [==============================] - 2s 4ms/step - loss: 0.3416 - acc: 0.8599 - val_loss: 0.3652 - val_acc: 0.8497\n",
            "Epoch 56/100\n",
            "536/536 [==============================] - 2s 4ms/step - loss: 0.3412 - acc: 0.8586 - val_loss: 0.3649 - val_acc: 0.8497\n",
            "Epoch 57/100\n",
            "536/536 [==============================] - 2s 4ms/step - loss: 0.3406 - acc: 0.8604 - val_loss: 0.3662 - val_acc: 0.8504\n",
            "Epoch 58/100\n",
            "536/536 [==============================] - 2s 4ms/step - loss: 0.3408 - acc: 0.8586 - val_loss: 0.3653 - val_acc: 0.8501\n",
            "Epoch 59/100\n",
            "536/536 [==============================] - 2s 4ms/step - loss: 0.3404 - acc: 0.8578 - val_loss: 0.3641 - val_acc: 0.8501\n",
            "Epoch 60/100\n",
            "536/536 [==============================] - 2s 4ms/step - loss: 0.3402 - acc: 0.8586 - val_loss: 0.3644 - val_acc: 0.8516\n",
            "Epoch 61/100\n",
            "536/536 [==============================] - 2s 4ms/step - loss: 0.3399 - acc: 0.8595 - val_loss: 0.3642 - val_acc: 0.8512\n",
            "Epoch 62/100\n",
            "536/536 [==============================] - 2s 4ms/step - loss: 0.3395 - acc: 0.8586 - val_loss: 0.3639 - val_acc: 0.8512\n",
            "Epoch 63/100\n",
            "536/536 [==============================] - 2s 4ms/step - loss: 0.3393 - acc: 0.8604 - val_loss: 0.3643 - val_acc: 0.8504\n",
            "Epoch 64/100\n",
            "536/536 [==============================] - 2s 4ms/step - loss: 0.3391 - acc: 0.8591 - val_loss: 0.3641 - val_acc: 0.8512\n",
            "Epoch 65/100\n",
            "536/536 [==============================] - 2s 4ms/step - loss: 0.3388 - acc: 0.8595 - val_loss: 0.3636 - val_acc: 0.8501\n",
            "Epoch 66/100\n",
            "536/536 [==============================] - 2s 4ms/step - loss: 0.3386 - acc: 0.8595 - val_loss: 0.3638 - val_acc: 0.8512\n",
            "Epoch 67/100\n",
            "536/536 [==============================] - 2s 4ms/step - loss: 0.3384 - acc: 0.8591 - val_loss: 0.3638 - val_acc: 0.8508\n",
            "Epoch 68/100\n",
            "536/536 [==============================] - 2s 4ms/step - loss: 0.3383 - acc: 0.8597 - val_loss: 0.3637 - val_acc: 0.8504\n",
            "Epoch 69/100\n",
            "536/536 [==============================] - 2s 4ms/step - loss: 0.3381 - acc: 0.8595 - val_loss: 0.3639 - val_acc: 0.8504\n",
            "Epoch 70/100\n",
            "536/536 [==============================] - 2s 4ms/step - loss: 0.3378 - acc: 0.8600 - val_loss: 0.3636 - val_acc: 0.8508\n",
            "Epoch 71/100\n",
            "536/536 [==============================] - 2s 4ms/step - loss: 0.3377 - acc: 0.8599 - val_loss: 0.3630 - val_acc: 0.8504\n",
            "Epoch 72/100\n",
            "536/536 [==============================] - 2s 4ms/step - loss: 0.3376 - acc: 0.8608 - val_loss: 0.3630 - val_acc: 0.8512\n",
            "Epoch 73/100\n",
            "536/536 [==============================] - 3s 6ms/step - loss: 0.3375 - acc: 0.8595 - val_loss: 0.3634 - val_acc: 0.8493\n",
            "Epoch 74/100\n",
            "536/536 [==============================] - 2s 4ms/step - loss: 0.3374 - acc: 0.8587 - val_loss: 0.3629 - val_acc: 0.8516\n",
            "Epoch 75/100\n",
            "536/536 [==============================] - 2s 4ms/step - loss: 0.3372 - acc: 0.8600 - val_loss: 0.3629 - val_acc: 0.8516\n",
            "Epoch 76/100\n",
            "536/536 [==============================] - 2s 4ms/step - loss: 0.3369 - acc: 0.8602 - val_loss: 0.3636 - val_acc: 0.8508\n",
            "Epoch 77/100\n",
            "536/536 [==============================] - 2s 4ms/step - loss: 0.3370 - acc: 0.8595 - val_loss: 0.3629 - val_acc: 0.8508\n",
            "Epoch 78/100\n",
            "536/536 [==============================] - 2s 4ms/step - loss: 0.3370 - acc: 0.8591 - val_loss: 0.3626 - val_acc: 0.8516\n",
            "Epoch 79/100\n",
            "536/536 [==============================] - 2s 4ms/step - loss: 0.3367 - acc: 0.8617 - val_loss: 0.3627 - val_acc: 0.8508\n",
            "Epoch 80/100\n",
            "536/536 [==============================] - 2s 4ms/step - loss: 0.3367 - acc: 0.8614 - val_loss: 0.3627 - val_acc: 0.8508\n",
            "Epoch 81/100\n",
            "536/536 [==============================] - 2s 4ms/step - loss: 0.3367 - acc: 0.8604 - val_loss: 0.3624 - val_acc: 0.8516\n",
            "Epoch 82/100\n",
            "536/536 [==============================] - 2s 4ms/step - loss: 0.3365 - acc: 0.8617 - val_loss: 0.3626 - val_acc: 0.8512\n",
            "Epoch 83/100\n",
            "536/536 [==============================] - 2s 4ms/step - loss: 0.3364 - acc: 0.8602 - val_loss: 0.3626 - val_acc: 0.8512\n",
            "Epoch 84/100\n",
            "536/536 [==============================] - 2s 4ms/step - loss: 0.3364 - acc: 0.8602 - val_loss: 0.3625 - val_acc: 0.8516\n",
            "Epoch 85/100\n",
            "536/536 [==============================] - 2s 4ms/step - loss: 0.3361 - acc: 0.8602 - val_loss: 0.3623 - val_acc: 0.8538\n",
            "Epoch 86/100\n",
            "536/536 [==============================] - 2s 4ms/step - loss: 0.3362 - acc: 0.8614 - val_loss: 0.3622 - val_acc: 0.8527\n",
            "Epoch 87/100\n",
            "536/536 [==============================] - 2s 4ms/step - loss: 0.3361 - acc: 0.8608 - val_loss: 0.3622 - val_acc: 0.8523\n",
            "Epoch 88/100\n",
            "536/536 [==============================] - 2s 4ms/step - loss: 0.3359 - acc: 0.8619 - val_loss: 0.3620 - val_acc: 0.8535\n",
            "Epoch 89/100\n",
            "536/536 [==============================] - 2s 4ms/step - loss: 0.3358 - acc: 0.8630 - val_loss: 0.3624 - val_acc: 0.8523\n",
            "Epoch 90/100\n",
            "536/536 [==============================] - 2s 4ms/step - loss: 0.3357 - acc: 0.8615 - val_loss: 0.3618 - val_acc: 0.8538\n",
            "Epoch 91/100\n",
            "536/536 [==============================] - 2s 4ms/step - loss: 0.3357 - acc: 0.8615 - val_loss: 0.3616 - val_acc: 0.8527\n",
            "Epoch 92/100\n",
            "536/536 [==============================] - 2s 4ms/step - loss: 0.3354 - acc: 0.8619 - val_loss: 0.3615 - val_acc: 0.8538\n",
            "Epoch 93/100\n",
            "536/536 [==============================] - 2s 4ms/step - loss: 0.3354 - acc: 0.8627 - val_loss: 0.3617 - val_acc: 0.8527\n",
            "Epoch 94/100\n",
            "536/536 [==============================] - 2s 4ms/step - loss: 0.3350 - acc: 0.8623 - val_loss: 0.3615 - val_acc: 0.8527\n",
            "Epoch 95/100\n",
            "536/536 [==============================] - 2s 4ms/step - loss: 0.3352 - acc: 0.8628 - val_loss: 0.3615 - val_acc: 0.8523\n",
            "Epoch 96/100\n",
            "536/536 [==============================] - 2s 4ms/step - loss: 0.3350 - acc: 0.8623 - val_loss: 0.3617 - val_acc: 0.8516\n",
            "Epoch 97/100\n",
            "536/536 [==============================] - 2s 4ms/step - loss: 0.3350 - acc: 0.8623 - val_loss: 0.3616 - val_acc: 0.8508\n",
            "Epoch 98/100\n",
            "536/536 [==============================] - 2s 4ms/step - loss: 0.3347 - acc: 0.8632 - val_loss: 0.3608 - val_acc: 0.8519\n",
            "Epoch 99/100\n",
            "536/536 [==============================] - 2s 4ms/step - loss: 0.3345 - acc: 0.8630 - val_loss: 0.3609 - val_acc: 0.8516\n",
            "Epoch 100/100\n",
            "536/536 [==============================] - 2s 4ms/step - loss: 0.3344 - acc: 0.8636 - val_loss: 0.3611 - val_acc: 0.8516\n",
            "dict_keys(['loss', 'acc', 'val_loss', 'val_acc'])\n"
          ]
        },
        {
          "output_type": "display_data",
          "data": {
            "text/plain": [
              "<Figure size 432x288 with 1 Axes>"
            ],
            "image/png": "[encoded data removed]"
          },
          "metadata": {
            "needs_background": "light"
          }
        },
        {
          "output_type": "display_data",
          "data": {
            "text/plain": [
              "<Figure size 432x288 with 1 Axes>"
            ],
            "image/png": "[encoded data removed]"
          },
          "metadata": {
            "needs_background": "light"
          }
        },
        {
          "output_type": "stream",
          "name": "stdout",
          "text": [
            "[[1516   79]\n",
            " [ 204  201]]\n",
            "0.8585\n"
          ]
        }
      ]
    }
  ]
}